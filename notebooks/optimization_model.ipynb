{
 "cells": [
  {
   "cell_type": "code",
   "execution_count": 2,
   "metadata": {},
   "outputs": [],
   "source": [
    "from ortools.linear_solver import pywraplp\n",
    "import pandas as pd"
   ]
  },
  {
   "cell_type": "code",
   "execution_count": 3,
   "metadata": {},
   "outputs": [],
   "source": [
    "tasks = pd.read_csv('../data/tasks.csv')\n",
    "crew = pd.read_csv('../data/crew.csv')"
   ]
  },
  {
   "cell_type": "code",
   "execution_count": 4,
   "metadata": {},
   "outputs": [],
   "source": [
    "solver = pywraplp.Solver.CreateSolver('SCIP')\n"
   ]
  },
  {
   "cell_type": "code",
   "execution_count": 6,
   "metadata": {},
   "outputs": [],
   "source": [
    "assignments = {}\n",
    "for _, task in tasks.iterrows():\n",
    "    for _, crew_member in crew.iterrows():\n",
    "        assignments[(task['Task_ID'], crew_member['Crew_ID'])] = solver.BoolVar(\n",
    "            f\"assign_t{task['Task_ID']}_c{crew_member['Crew_ID']}\")"
   ]
  },
  {
   "cell_type": "code",
   "execution_count": 7,
   "metadata": {},
   "outputs": [],
   "source": [
    "objective = solver.Objective()\n",
    "for (task_id, crew_id), var in assignments.items():\n",
    "    objective.SetCoefficient(var, -1)  # Minimize idle time (negative coefficient)\n",
    "objective.SetMinimization()\n"
   ]
  },
  {
   "cell_type": "code",
   "execution_count": 10,
   "metadata": {},
   "outputs": [],
   "source": [
    "for _, task in tasks.iterrows():\n",
    "    solver.Add(\n",
    "        sum(assignments[(task['Task_ID'], crew_member['Crew_ID'])]\n",
    "            for _, crew_member in crew.iterrows()) == 1)\n"
   ]
  },
  {
   "cell_type": "code",
   "execution_count": 11,
   "metadata": {},
   "outputs": [],
   "source": [
    "status = solver.Solve()"
   ]
  },
  {
   "cell_type": "code",
   "execution_count": 13,
   "metadata": {},
   "outputs": [
    {
     "name": "stdout",
     "output_type": "stream",
     "text": [
      "Optimal solution found!\n"
     ]
    }
   ],
   "source": [
    "if status == pywraplp.Solver.OPTIMAL:\n",
    "    print(\"Optimal solution found!\")\n",
    "    results = []\n",
    "    for (task_id, crew_id), var in assignments.items():\n",
    "        if var.solution_value() > 0:\n",
    "            results.append({\"Task ID\": task_id, \"Crew ID\": crew_id})\n",
    "    results_df = pd.DataFrame(results)\n",
    "    results_df.to_csv('../data/Optimal_Schedule.csv', index=False)\n",
    "else:\n",
    "    print(\"No optimal solution found.\")"
   ]
  }
 ],
 "metadata": {
  "kernelspec": {
   "display_name": ".venv",
   "language": "python",
   "name": "python3"
  },
  "language_info": {
   "codemirror_mode": {
    "name": "ipython",
    "version": 3
   },
   "file_extension": ".py",
   "mimetype": "text/x-python",
   "name": "python",
   "nbconvert_exporter": "python",
   "pygments_lexer": "ipython3",
   "version": "3.9.9"
  }
 },
 "nbformat": 4,
 "nbformat_minor": 2
}
